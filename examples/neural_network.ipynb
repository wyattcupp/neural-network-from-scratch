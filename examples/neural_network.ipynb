{
 "cells": [
  {
   "cell_type": "markdown",
   "id": "terminal-heath",
   "metadata": {},
   "source": [
    "## Neural Network From Scratch\n",
    "### Wyatt Cupp\n",
    "### <wyattcupp@gmail.com>"
   ]
  },
  {
   "cell_type": "code",
   "execution_count": 1,
   "id": "higher-establishment",
   "metadata": {},
   "outputs": [],
   "source": [
    "import numpy as np\n",
    "import pandas as pd\n",
    "import matplotlib.pyplot as plt\n",
    "from sklearn import datasets\n",
    "from sklearn.model_selection import train_test_split\n",
    "from sklearn.preprocessing import OneHotEncoder\n",
    "\n",
    "\n",
    "%matplotlib inline"
   ]
  },
  {
   "cell_type": "markdown",
   "id": "adequate-convergence",
   "metadata": {},
   "source": [
    "### Plotting Utils"
   ]
  },
  {
   "cell_type": "code",
   "execution_count": 2,
   "id": "willing-williams",
   "metadata": {},
   "outputs": [],
   "source": [
    "def plot_cost(cost_iterator, name=None): #TODO: enhance\n",
    "    plt.plot(range(len(cost_iter)), cost_iter, label='y')\n",
    "    plt.xlabel('$x$', fontsize=15)\n",
    "    plt.ylabel('$cost$', fontsize=15)\n",
    "    \n",
    "    if name is not None:\n",
    "        title = name + ': iteration (x) vs cost(y)'\n",
    "    else:\n",
    "        title = 'iteration(x) vs cost (y)'\n",
    "        \n",
    "    plt.title(title)\n",
    "    plt.grid()\n",
    "    plt.legend(loc=2)\n",
    "    plt.show()"
   ]
  },
  {
   "cell_type": "markdown",
   "id": "wrapped-salmon",
   "metadata": {},
   "source": [
    "### Using the MLP for XOR"
   ]
  },
  {
   "cell_type": "code",
   "execution_count": 3,
   "id": "detailed-queens",
   "metadata": {},
   "outputs": [
    {
     "data": {
      "text/plain": [
       "((4, 2), (4, 1))"
      ]
     },
     "execution_count": 3,
     "metadata": {},
     "output_type": "execute_result"
    }
   ],
   "source": [
    "X = np.array([[0,0],\n",
    "              [0,1],\n",
    "              [1,0],\n",
    "              [1,1]])\n",
    "Y = np.array([ [0],\n",
    "               [1],\n",
    "               [1],\n",
    "               [0]])\n",
    "\n",
    "X.shape, Y.shape"
   ]
  },
  {
   "cell_type": "code",
   "execution_count": 4,
   "id": "creative-subcommittee",
   "metadata": {
    "scrolled": true
   },
   "outputs": [
    {
     "name": "stdout",
     "output_type": "stream",
     "text": [
      "Beginning training ...\n",
      "Layer 0 weights shape: (2, 2)\n",
      "Layer 1 weights shape: (2, 1)\n",
      "Learning Rate: 1, batch size: 32, epochs: 3000\n",
      "-----------------------------------------------------\n",
      "\n",
      "Cost after epoch #0: 0.4997880969910532\n",
      "Cost after epoch #100: 0.49762380536704093\n",
      "Cost after epoch #200: 0.4805830401345368\n",
      "Cost after epoch #300: 0.4108646509626086\n",
      "Cost after epoch #400: 0.3305458544454653\n",
      "Cost after epoch #500: 0.13061878336616817\n",
      "Cost after epoch #600: 0.03759840691697504\n",
      "Cost after epoch #700: 0.018878204848487207\n",
      "Cost after epoch #800: 0.012126605305179573\n",
      "Cost after epoch #900: 0.008792756769853149\n",
      "Cost after epoch #1000: 0.006840834097770213\n",
      "Cost after epoch #1100: 0.005571138645751483\n",
      "Cost after epoch #1200: 0.00468427834704541\n",
      "Cost after epoch #1300: 0.004032248336548099\n",
      "Cost after epoch #1400: 0.003533999209714286\n",
      "Cost after epoch #1500: 0.003141625969446335\n",
      "Cost after epoch #1600: 0.002825087875915581\n",
      "Cost after epoch #1700: 0.0025646357874168305\n",
      "Cost after epoch #1800: 0.0023467759262316666\n",
      "Cost after epoch #1900: 0.002161987900683282\n",
      "Cost after epoch #2000: 0.0020033700458644407\n",
      "Cost after epoch #2100: 0.0018658015605719355\n",
      "Cost after epoch #2200: 0.0017454058129170804\n",
      "Cost after epoch #2300: 0.0016391960023577744\n",
      "Cost after epoch #2400: 0.0015448349613781309\n",
      "Cost after epoch #2500: 0.0014604685031372544\n",
      "Cost after epoch #2600: 0.0013846073885377746\n",
      "Cost after epoch #2700: 0.0013160421752884876\n",
      "Cost after epoch #2800: 0.0012537807639214896\n",
      "Cost after epoch #2900: 0.0011970019010267645\n",
      "\n",
      "Accuracy: 1.0\n"
     ]
    }
   ],
   "source": [
    "from mlp import *\n",
    "from activations import *\n",
    "\n",
    "model = MultiLayerPerceptron([DenseLayer(2, activation=Sigmoid(), input_shape=2), # 1 hidden layer w/ 2 neurons\n",
    "                             DenseLayer(1, activation=Sigmoid())],loss=MSE(), verbose=True) # 1 output layer w/ 1 neuron  \n",
    "\n",
    "cost_iter = model.train(X, Y,lr=1,epochs=3000)\n",
    "\n",
    "print('\\nAccuracy: {}'.format(accuracy_score(model.predict(X), Y)))"
   ]
  },
  {
   "cell_type": "code",
   "execution_count": 5,
   "id": "protecting-scene",
   "metadata": {},
   "outputs": [
    {
     "data": {
      "image/png": "[encoded data removed]",
      "text/plain": [
       "<Figure size 432x288 with 1 Axes>"
      ]
     },
     "metadata": {
      "needs_background": "light"
     },
     "output_type": "display_data"
    }
   ],
   "source": [
    "plot_cost(cost_iter)"
   ]
  },
  {
   "cell_type": "code",
   "execution_count": 6,
   "id": "absent-duplicate",
   "metadata": {},
   "outputs": [
    {
     "name": "stdout",
     "output_type": "stream",
     "text": [
      "Beginning training ...\n",
      "Layer 0 weights shape: (2, 2)\n",
      "Layer 1 weights shape: (2, 1)\n",
      "Learning Rate: 0.2, batch size: 32, epochs: 1000\n",
      "-----------------------------------------------------\n",
      "\n",
      "Cost after epoch #0: 0.5059703161258782\n",
      "Cost after epoch #100: 0.4988771213122233\n",
      "Cost after epoch #200: 0.48757228171433725\n",
      "Cost after epoch #300: 0.3942554852149393\n",
      "Cost after epoch #400: 0.13855695508171578\n",
      "Cost after epoch #500: 0.05256881632438441\n",
      "Cost after epoch #600: 0.028842734459160115\n",
      "Cost after epoch #700: 0.019124070949902136\n",
      "Cost after epoch #800: 0.014063637700374302\n",
      "Cost after epoch #900: 0.011021247251004496\n",
      "\n",
      "Accuracy: 1.0\n"
     ]
    }
   ],
   "source": [
    "from mlp import *\n",
    "from activations import *\n",
    "\n",
    "#TODO: why does the cost stop dropping??????\n",
    "model = MultiLayerPerceptron([DenseLayer(2, activation=TanH(), input_shape=2), # 1 hidden layer w/ 2 neurons\n",
    "                             DenseLayer(1, activation=Sigmoid())],loss=MSE(), verbose=True) # 1 output layer w/ 1 neuron  \n",
    "\n",
    "cost_iter = model.train(X, Y,lr=0.2,epochs=1000)\n",
    "\n",
    "print('\\nAccuracy: {}'.format(accuracy_score(model.predict(X), Y))) #TODO: WHY IS THIS NOT LEARNING CONSISTENTLY?"
   ]
  },
  {
   "cell_type": "code",
   "execution_count": 7,
   "id": "nearby-profile",
   "metadata": {},
   "outputs": [
    {
     "data": {
      "image/png": "[encoded data removed]",
      "text/plain": [
       "<Figure size 432x288 with 1 Axes>"
      ]
     },
     "metadata": {
      "needs_background": "light"
     },
     "output_type": "display_data"
    }
   ],
   "source": [
    "plot_cost(cost_iter)"
   ]
  },
  {
   "cell_type": "markdown",
   "id": "graduate-commerce",
   "metadata": {},
   "source": [
    "### Try on the Iris Dataset"
   ]
  },
  {
   "cell_type": "code",
   "execution_count": 8,
   "id": "presidential-strand",
   "metadata": {
    "scrolled": true
   },
   "outputs": [
    {
     "name": "stdout",
     "output_type": "stream",
     "text": [
      "150\n"
     ]
    },
    {
     "data": {
      "text/plain": [
       "((150, 4), (150, 3))"
      ]
     },
     "execution_count": 8,
     "metadata": {},
     "output_type": "execute_result"
    }
   ],
   "source": [
    "from sklearn import datasets\n",
    "from sklearn.preprocessing import OneHotEncoder\n",
    "\n",
    "encoder = OneHotEncoder()\n",
    "\n",
    "data = datasets.load_iris()\n",
    "print(len(data.data))\n",
    "X = data.data[:300]\n",
    "y = data.target[:300]\n",
    "encoder.fit(y.reshape(-1,1))\n",
    "y_new = encoder.transform(y.reshape(-1,1)).toarray()\n",
    "\n",
    "X.shape, y_new.shape"
   ]
  },
  {
   "cell_type": "markdown",
   "id": "contemporary-standard",
   "metadata": {},
   "source": [
    "Check accuracy with our trained model on the iris dataset: "
   ]
  },
  {
   "cell_type": "code",
   "execution_count": 9,
   "id": "social-desperate",
   "metadata": {},
   "outputs": [
    {
     "data": {
      "text/plain": [
       "((120, 4), (120, 3))"
      ]
     },
     "execution_count": 9,
     "metadata": {},
     "output_type": "execute_result"
    }
   ],
   "source": [
    "from sklearn.model_selection import train_test_split\n",
    "from sklearn.preprocessing import OneHotEncoder\n",
    "\n",
    "encoder = OneHotEncoder()\n",
    "\n",
    "data = datasets.load_iris()\n",
    "X = data.data\n",
    "y = data.target\n",
    "encoder.fit(y.reshape(-1,1))\n",
    "\n",
    "X_train,X_test,y_train,y_test=train_test_split(X, y, test_size=0.20, random_state=0)\n",
    "\n",
    "# transform y_train into correct shape for categorical data labels\n",
    "y_train = encoder.transform(y_train.reshape(-1,1)).toarray()\n",
    "\n",
    "X_train.shape, y_train.shape"
   ]
  },
  {
   "cell_type": "code",
   "execution_count": 10,
   "id": "objective-cherry",
   "metadata": {
    "scrolled": true
   },
   "outputs": [
    {
     "name": "stdout",
     "output_type": "stream",
     "text": [
      "Beginning training ...\n",
      "Layer 0 weights shape: (4, 10)\n",
      "Layer 1 weights shape: (10, 10)\n",
      "Layer 2 weights shape: (10, 3)\n",
      "Learning Rate: 0.001, batch size: 32, epochs: 5000\n",
      "-----------------------------------------------------\n",
      "\n",
      "Cost after epoch #0: 0.6243832490495227\n",
      "Cost after epoch #100: 0.15912715780986508\n",
      "Cost after epoch #200: 0.127562543123071\n",
      "Cost after epoch #300: 0.12464745458527816\n",
      "Cost after epoch #400: 0.12020984737141736\n",
      "Cost after epoch #500: 0.11853818988970108\n",
      "Cost after epoch #600: 0.116747746044263\n",
      "Cost after epoch #700: 0.11446182936324514\n",
      "Cost after epoch #800: 0.11178503421225233\n",
      "Cost after epoch #900: 0.10897536497357604\n",
      "Cost after epoch #1000: 0.10625174654999694\n",
      "Cost after epoch #1100: 0.10364066295031088\n",
      "Cost after epoch #1200: 0.10102714783634922\n",
      "Cost after epoch #1300: 0.0987064967970222\n",
      "Cost after epoch #1400: 0.09644433750051719\n",
      "Cost after epoch #1500: 0.09435435374751831\n",
      "Cost after epoch #1600: 0.09241066416315316\n",
      "Cost after epoch #1700: 0.09052684778778317\n",
      "Cost after epoch #1800: 0.08880159338768324\n",
      "Cost after epoch #1900: 0.0871283765898104\n",
      "Cost after epoch #2000: 0.08550558988655732\n",
      "Cost after epoch #2100: 0.08394576033191899\n",
      "Cost after epoch #2200: 0.08246499722791296\n",
      "Cost after epoch #2300: 0.0810903616343374\n",
      "Cost after epoch #2400: 0.07976952187409243\n",
      "Cost after epoch #2500: 0.0787884009894885\n",
      "Cost after epoch #2600: 0.07735375931374479\n",
      "Cost after epoch #2700: 0.07593863303470362\n",
      "Cost after epoch #2800: 0.07451030190837424\n",
      "Cost after epoch #2900: 0.07320282859535257\n",
      "Cost after epoch #3000: 0.07180363073283696\n",
      "Cost after epoch #3100: 0.07052731419763042\n",
      "Cost after epoch #3200: 0.06916969784786585\n",
      "Cost after epoch #3300: 0.06799689032927043\n",
      "Cost after epoch #3400: 0.06682442533306077\n",
      "Cost after epoch #3500: 0.06558150612361015\n",
      "Cost after epoch #3600: 0.06442644778857043\n",
      "Cost after epoch #3700: 0.06300902004080394\n",
      "Cost after epoch #3800: 0.06129453266823737\n",
      "Cost after epoch #3900: 0.06061265043926521\n",
      "Cost after epoch #4000: 0.05881919861783125\n",
      "Cost after epoch #4100: 0.05800262722780877\n",
      "Cost after epoch #4200: 0.05704100427080113\n",
      "Cost after epoch #4300: 0.055182083890256674\n",
      "Cost after epoch #4400: 0.053912204691832825\n",
      "Cost after epoch #4500: 0.05319262157563241\n",
      "Cost after epoch #4600: 0.05191735569412007\n",
      "Cost after epoch #4700: 0.05020882771850929\n",
      "Cost after epoch #4800: 0.04901011692534355\n",
      "Cost after epoch #4900: 0.047810434266616096\n"
     ]
    }
   ],
   "source": [
    "from mlp import *\n",
    "from activations import *\n",
    "#TODO: why does the cost stop dropping????\n",
    "model = MultiLayerPerceptron([DenseLayer(10, activation=Relu(), input_shape=4), # hidden 1\n",
    "                             DenseLayer(10, activation=Relu()), # hidden 2\n",
    "                             DenseLayer(3, activation=SoftMax())],loss=CrossEntropy(), verbose=True) # 1 output layer w/ 3 neuron  \n",
    "\n",
    "cost_iter = model.train(X_train, y_train,lr=0.001,epochs=5000)"
   ]
  },
  {
   "cell_type": "code",
   "execution_count": 11,
   "id": "moving-explosion",
   "metadata": {
    "scrolled": true
   },
   "outputs": [
    {
     "data": {
      "image/png": "[encoded data removed]",
      "text/plain": [
       "<Figure size 432x288 with 1 Axes>"
      ]
     },
     "metadata": {
      "needs_background": "light"
     },
     "output_type": "display_data"
    }
   ],
   "source": [
    "plot_cost(cost_iter)"
   ]
  },
  {
   "cell_type": "code",
   "execution_count": 12,
   "id": "isolated-climb",
   "metadata": {},
   "outputs": [
    {
     "data": {
      "text/plain": [
       "1.0"
      ]
     },
     "execution_count": 12,
     "metadata": {},
     "output_type": "execute_result"
    }
   ],
   "source": [
    "model.accuracy(X_test,y_test)"
   ]
  },
  {
   "cell_type": "code",
   "execution_count": 13,
   "id": "large-charleston",
   "metadata": {
    "scrolled": true
   },
   "outputs": [
    {
     "name": "stdout",
     "output_type": "stream",
     "text": [
      "[2 1 0 2 0] [2 1 0 2 0]\n"
     ]
    }
   ],
   "source": [
    "preds = model.predict(X_test)\n",
    "print(preds[:5], y_test[:5])"
   ]
  },
  {
   "cell_type": "code",
   "execution_count": 14,
   "id": "interesting-recycling",
   "metadata": {
    "scrolled": true
   },
   "outputs": [
    {
     "name": "stdout",
     "output_type": "stream",
     "text": [
      "Beginning training ...\n",
      "Layer 0 weights shape: (4, 10)\n",
      "Layer 1 weights shape: (10, 10)\n",
      "Layer 2 weights shape: (10, 3)\n",
      "Learning Rate: 0.001, batch size: 32, epochs: 5000\n",
      "-----------------------------------------------------\n",
      "\n",
      "Cost after epoch #0: 0.6330843844679527\n",
      "Cost after epoch #100: 0.16933549719434537\n",
      "Cost after epoch #200: 0.12324354924604469\n",
      "Cost after epoch #300: 0.11448674201435877\n",
      "Cost after epoch #400: 0.11482778116982989\n",
      "Cost after epoch #500: 0.11461699009767926\n",
      "Cost after epoch #600: 0.11296928694653907\n",
      "Cost after epoch #700: 0.11060291663267471\n",
      "Cost after epoch #800: 0.10799940093010342\n",
      "Cost after epoch #900: 0.10537783499287115\n",
      "Cost after epoch #1000: 0.1027550961152493\n",
      "Cost after epoch #1100: 0.10028908091079668\n",
      "Cost after epoch #1200: 0.09797761847483105\n",
      "Cost after epoch #1300: 0.09582713057632097\n",
      "Cost after epoch #1400: 0.09381139231504397\n",
      "Cost after epoch #1500: 0.09193546600517954\n",
      "Cost after epoch #1600: 0.09021225100582433\n",
      "Cost after epoch #1700: 0.08861665141359408\n",
      "Cost after epoch #1800: 0.08712187223211394\n",
      "Cost after epoch #1900: 0.08572217648162118\n",
      "Cost after epoch #2000: 0.08441187694176698\n",
      "Cost after epoch #2100: 0.0831788739024577\n",
      "Cost after epoch #2200: 0.0820176513103234\n",
      "Cost after epoch #2300: 0.08091946156246771\n",
      "Cost after epoch #2400: 0.07988294015147185\n",
      "Cost after epoch #2500: 0.07892382779967105\n",
      "Cost after epoch #2600: 0.07797145060337726\n",
      "Cost after epoch #2700: 0.07708789745366154\n",
      "Cost after epoch #2800: 0.07624979251386399\n",
      "Cost after epoch #2900: 0.0754521809115304\n",
      "Cost after epoch #3000: 0.07469085634156204\n",
      "Cost after epoch #3100: 0.0739683360563672\n",
      "Cost after epoch #3200: 0.07328567151207702\n",
      "Cost after epoch #3300: 0.07266229563308303\n",
      "Cost after epoch #3400: 0.07199258173370067\n",
      "Cost after epoch #3500: 0.07142079884504306\n",
      "Cost after epoch #3600: 0.07084290578941171\n",
      "Cost after epoch #3700: 0.07026821175077164\n",
      "Cost after epoch #3800: 0.06976297480592032\n",
      "Cost after epoch #3900: 0.06928126578969886\n",
      "Cost after epoch #4000: 0.0687498410726658\n",
      "Cost after epoch #4100: 0.06827345722290606\n",
      "Cost after epoch #4200: 0.06786263294635025\n",
      "Cost after epoch #4300: 0.0674393569941096\n",
      "Cost after epoch #4400: 0.0670247402163025\n",
      "Cost after epoch #4500: 0.06661527053570242\n",
      "Cost after epoch #4600: 0.06623905984342168\n",
      "Cost after epoch #4700: 0.06582188634633207\n",
      "Cost after epoch #4800: 0.06551980224945392\n",
      "Cost after epoch #4900: 0.06510715961121603\n"
     ]
    }
   ],
   "source": [
    "from mlp import *\n",
    "from activations import *\n",
    "#TODO: why does the cost stop dropping????\n",
    "model = MultiLayerPerceptron([DenseLayer(10, activation=Relu(), input_shape=4), # hidden 1\n",
    "                             DenseLayer(10, activation=Relu()), # hidden 2\n",
    "                             DenseLayer(3, activation=SoftMax())],loss=CrossEntropy(), verbose=True) # 1 output layer w/ 3 neuron  \n",
    "\n",
    "cost_iter = model.train(X_train, y_train,lr=0.001,epochs=5000)"
   ]
  },
  {
   "cell_type": "code",
   "execution_count": 15,
   "id": "accredited-junction",
   "metadata": {
    "scrolled": true
   },
   "outputs": [
    {
     "data": {
      "image/png": "[encoded data removed]",
      "text/plain": [
       "<Figure size 432x288 with 1 Axes>"
      ]
     },
     "metadata": {
      "needs_background": "light"
     },
     "output_type": "display_data"
    }
   ],
   "source": [
    "plot_cost(cost_iter, name='Iris Dataset')"
   ]
  },
  {
   "cell_type": "code",
   "execution_count": 16,
   "id": "dominant-google",
   "metadata": {
    "scrolled": true
   },
   "outputs": [
    {
     "data": {
      "text/plain": [
       "0.9666666666666667"
      ]
     },
     "execution_count": 16,
     "metadata": {},
     "output_type": "execute_result"
    }
   ],
   "source": [
    "model.accuracy(X_test,y_test)"
   ]
  },
  {
   "cell_type": "markdown",
   "id": "verified-intellectual",
   "metadata": {},
   "source": [
    "### Digits Dataset"
   ]
  },
  {
   "cell_type": "code",
   "execution_count": 22,
   "id": "improving-consequence",
   "metadata": {},
   "outputs": [
    {
     "name": "stdout",
     "output_type": "stream",
     "text": [
      "(1797, 64) (1797,)\n"
     ]
    },
    {
     "data": {
      "text/plain": [
       "((1437, 64), (1437, 10))"
      ]
     },
     "execution_count": 22,
     "metadata": {},
     "output_type": "execute_result"
    }
   ],
   "source": [
    "data = datasets.load_digits()\n",
    "\n",
    "X = data.data\n",
    "y = data.target\n",
    "\n",
    "print(X.shape, y.shape)\n",
    "\n",
    "encoder = OneHotEncoder()\n",
    "\n",
    "encoder.fit(y.reshape(-1,1))\n",
    "\n",
    "X_train,X_test,y_train,y_test=train_test_split(X, y, test_size=0.20, random_state=0)\n",
    "\n",
    "# transform y_train into correct shape for categorical data labels\n",
    "y_train = encoder.transform(y_train.reshape(-1,1)).toarray()\n",
    "\n",
    "X_train.shape, y_train.shape"
   ]
  },
  {
   "cell_type": "code",
   "execution_count": null,
   "id": "prerequisite-community",
   "metadata": {},
   "outputs": [
    {
     "name": "stdout",
     "output_type": "stream",
     "text": [
      "Beginning training ...\n",
      "Layer 0 weights shape: (64, 512)\n",
      "Layer 1 weights shape: (512, 512)\n",
      "Layer 2 weights shape: (512, 512)\n",
      "Layer 3 weights shape: (512, 512)\n",
      "Layer 4 weights shape: (512, 10)\n",
      "Learning Rate: 0.1, epochs: 2000\n",
      "---------------------------------------\n",
      "\n",
      "Cost after epoch #0: 4.573412222386096\n",
      "Cost after epoch #100: 4.573412222386096\n",
      "Cost after epoch #200: 4.573412222386096\n",
      "Cost after epoch #300: 4.573412222386096\n",
      "Cost after epoch #400: 4.573412222386096\n"
     ]
    }
   ],
   "source": [
    "# Build the model object\n",
    "from mlp import *\n",
    "model = MultiLayerPerceptron([DenseLayer(512, activation=LeakyRelu(), input_shape=X_train.shape[1]), # hidden 1\n",
    "                             DenseLayer(512, activation=LeakyRelu()), # hidden 2\n",
    "                             DenseLayer(512, activation=LeakyRelu()),\n",
    "                             DenseLayer(512, activation=LeakyRelu()),\n",
    "                             DenseLayer(10, activation=SoftMax())],loss=CrossEntropy(), verbose=True) # 1 output layer w/ 3 neuron  \n",
    "\n",
    "cost_iter = model.train(X_train, y_train,lr=0.1,epochs=2000)"
   ]
  },
  {
   "cell_type": "markdown",
   "id": "prepared-chile",
   "metadata": {},
   "source": [
    "### Implementing Gradient Descent with Linear Regression (sanity check)"
   ]
  },
  {
   "cell_type": "code",
   "execution_count": 19,
   "id": "empty-negotiation",
   "metadata": {},
   "outputs": [],
   "source": [
    "def f(x): return x * 2\n",
    "\n",
    "X = np.random.uniform(0, 1, 50)\n",
    "noise_variance = 0.2  # Variance of the gaussian noise\n",
    "noise = np.random.randn(X.shape[0]) * noise_variance\n",
    "y = f(X) + noise"
   ]
  },
  {
   "cell_type": "code",
   "execution_count": 20,
   "id": "deluxe-examination",
   "metadata": {},
   "outputs": [
    {
     "data": {
      "image/png": "[encoded data removed]",
      "text/plain": [
       "<Figure size 432x288 with 1 Axes>"
      ]
     },
     "metadata": {
      "needs_background": "light"
     },
     "output_type": "display_data"
    },
    {
     "data": {
      "text/plain": [
       "((50,), (50,))"
      ]
     },
     "execution_count": 20,
     "metadata": {},
     "output_type": "execute_result"
    }
   ],
   "source": [
    "plt.plot(X, y, 'o', label='y')\n",
    "plt.xlabel('$x$', fontsize=15)\n",
    "plt.ylabel('$y$', fontsize=15)\n",
    "plt.ylim([0,2])\n",
    "plt.title('inputs (x) vs targets (y)')\n",
    "plt.grid()\n",
    "plt.legend(loc=2)\n",
    "plt.show()\n",
    "X.shape,y.shape"
   ]
  },
  {
   "cell_type": "code",
   "execution_count": 21,
   "id": "designing-double",
   "metadata": {
    "scrolled": true
   },
   "outputs": [
    {
     "name": "stdout",
     "output_type": "stream",
     "text": [
      "Current cost: 1.2151676381347742\n",
      "Current cost: 0.20996286181874393\n",
      "Current cost: 0.1613785537136866\n",
      "Current cost: 0.12938766550008057\n",
      "Current cost: 0.10506198541844343\n",
      "Current cost: 0.0865385523958006\n",
      "Current cost: 0.07243320986840365\n",
      "Current cost: 0.06169218192905158\n",
      "Current cost: 0.05351303412767966\n",
      "Current cost: 0.047284723472955016\n",
      "Current cost: 0.04254194897446101\n",
      "Current cost: 0.038930390208280735\n",
      "Current cost: 0.03618023695395347\n",
      "Current cost: 0.03408603237029493\n",
      "Current cost: 0.03249132384584615\n",
      "Current cost: 0.03127697482866129\n",
      "Current cost: 0.030352264442449796\n",
      "Current cost: 0.029648109964398914\n",
      "Current cost: 0.02911190583351366\n",
      "Current cost: 0.028703593625126825\n",
      "Current cost: 0.028392669389533078\n",
      "Current cost: 0.028155904780751233\n",
      "Current cost: 0.027975611726835457\n",
      "Current cost: 0.027838320999739388\n",
      "Current cost: 0.027733775964103254\n",
      "Current cost: 0.027654166330537047\n",
      "Current cost: 0.027593544669087686\n",
      "Current cost: 0.027547382092119824\n",
      "Current cost: 0.027512229912826747\n",
      "Current cost: 0.027485462002752904\n",
      "Current cost: 0.027465078600524887\n",
      "Current cost: 0.027449556914848173\n",
      "Current cost: 0.027437737360705455\n",
      "Current cost: 0.027428736929757287\n",
      "Current cost: 0.02742188322307133\n",
      "Current cost: 0.02741666421793619\n",
      "Current cost: 0.02741269001596801\n",
      "Current cost: 0.02740966371481004\n",
      "Current cost: 0.027407359227325\n",
      "Current cost: 0.027405604391209384\n",
      "Current cost: 0.027404268107192816\n",
      "Current cost: 0.02740325054495035\n",
      "Current cost: 0.027402475685037016\n",
      "Current cost: 0.027401885639671494\n",
      "Current cost: 0.027401436328089633\n",
      "Current cost: 0.027401094183384527\n",
      "Current cost: 0.027400833644809598\n",
      "Current cost: 0.027400635248201338\n",
      "Current cost: 0.027400484171861958\n",
      "Current cost: 0.027400369129268652\n",
      "2.0409843111852193 -0.019958225236074337\n"
     ]
    }
   ],
   "source": [
    "m = 0\n",
    "b = 0\n",
    "lr = 0.01\n",
    "epochs = 5000\n",
    "n = len(X)\n",
    " \n",
    "def mse_cost(y,y_hat):\n",
    "    assert(len(y)==len(y_hat))\n",
    "    return np.sum((y-y_hat)**2)/float(len(y))\n",
    "\n",
    "cost_iter = []\n",
    "# Perform Gradient Descent\n",
    "for i in range(epochs):\n",
    "    y_hat = m*X + b  # The current predicted value of Y\n",
    "    \n",
    "    cost = mse_cost(y,y_hat)\n",
    "    cost_iter.append(cost)\n",
    "    if i % 100 == 0:\n",
    "        print('Current cost: {}'.format(cost))\n",
    "    \n",
    "    Dm = (-2/n) * np.sum(X * (y - y_hat))  # Derivative wrt m\n",
    "    Dc = (-2/n) * np.sum(y - y_hat)  # Derivative wrt c\n",
    "    m = m - lr * Dm  # Update m\n",
    "    b = b - lr * Dc  # Update c\n",
    "       \n",
    "print (m, b)"
   ]
  },
  {
   "cell_type": "code",
   "execution_count": 22,
   "id": "czech-standard",
   "metadata": {},
   "outputs": [
    {
     "data": {
      "image/png": "[encoded data removed]",
      "text/plain": [
       "<Figure size 432x288 with 1 Axes>"
      ]
     },
     "metadata": {
      "needs_background": "light"
     },
     "output_type": "display_data"
    }
   ],
   "source": [
    "plot_cost(cost_iter)"
   ]
  },
  {
   "cell_type": "markdown",
   "id": "differential-gathering",
   "metadata": {},
   "source": [
    "### Plot Fitted Linear Regression Line"
   ]
  },
  {
   "cell_type": "code",
   "execution_count": 23,
   "id": "balanced-emphasis",
   "metadata": {},
   "outputs": [
    {
     "data": {
      "image/png": "[encoded data removed]",
      "text/plain": [
       "<Figure size 432x288 with 1 Axes>"
      ]
     },
     "metadata": {
      "needs_background": "light"
     },
     "output_type": "display_data"
    },
    {
     "data": {
      "text/plain": [
       "((50,), (50,))"
      ]
     },
     "execution_count": 23,
     "metadata": {},
     "output_type": "execute_result"
    }
   ],
   "source": [
    "plt.plot(X, y, 'o', label='y')\n",
    "plt.xlabel('$x$', fontsize=15)\n",
    "plt.ylabel('$y$', fontsize=15)\n",
    "\n",
    "# plot new regression line w/ new weights:\n",
    "y_pred = X*m+b\n",
    "plt.plot(X,y_pred, label='y=mx+b', c='b')\n",
    "\n",
    "plt.ylim([0,2])\n",
    "plt.title('inputs (x) vs targets (y)')\n",
    "plt.grid()\n",
    "plt.legend(loc=2)\n",
    "plt.show()\n",
    "X.shape,y.shape"
   ]
  },
  {
   "cell_type": "code",
   "execution_count": null,
   "id": "swiss-identification",
   "metadata": {},
   "outputs": [],
   "source": []
  }
 ],
 "metadata": {
  "kernelspec": {
   "display_name": "Python 3.9.12 ('base')",
   "language": "python",
   "name": "python3"
  },
  "language_info": {
   "codemirror_mode": {
    "name": "ipython",
    "version": 3
   },
   "file_extension": ".py",
   "mimetype": "text/x-python",
   "name": "python",
   "nbconvert_exporter": "python",
   "pygments_lexer": "ipython3",
   "version": "3.9.12"
  },
  "vscode": {
   "interpreter": {
    "hash": "40d3a090f54c6569ab1632332b64b2c03c39dcf918b08424e98f38b5ae0af88f"
   }
  }
 },
 "nbformat": 4,
 "nbformat_minor": 5
}
