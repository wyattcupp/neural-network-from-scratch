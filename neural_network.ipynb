{
 "cells": [
  {
   "cell_type": "markdown",
   "id": "terminal-heath",
   "metadata": {},
   "source": [
    "## Neural Network From Scratch\n",
    "### Wyatt Cupp\n",
    "### <wyattcupp@gmail.com>"
   ]
  },
  {
   "cell_type": "code",
   "execution_count": 6,
   "id": "higher-establishment",
   "metadata": {},
   "outputs": [],
   "source": [
    "import numpy as np\n",
    "import pandas as pd\n",
    "import matplotlib.pyplot as plt\n",
    "from sklearn import datasets\n",
    "from sklearn.model_selection import train_test_split\n",
    "from sklearn.preprocessing import OneHotEncoder\n",
    "\n",
    "\n",
    "%matplotlib inline"
   ]
  },
  {
   "cell_type": "markdown",
   "id": "adequate-convergence",
   "metadata": {},
   "source": [
    "### Plotting Utils"
   ]
  },
  {
   "cell_type": "code",
   "execution_count": 2,
   "id": "willing-williams",
   "metadata": {},
   "outputs": [],
   "source": [
    "def plot_cost(cost_iterator, name=None): #TODO: enhance\n",
    "    plt.plot(range(len(cost_iter)), cost_iter, label='y')\n",
    "    plt.xlabel('$x$', fontsize=15)\n",
    "    plt.ylabel('$cost$', fontsize=15)\n",
    "    \n",
    "    if name is not None:\n",
    "        title = name + ': iteration (x) vs cost(y)'\n",
    "    else:\n",
    "        title = 'iteration(x) vs cost (y)'\n",
    "        \n",
    "    plt.title(title)\n",
    "    plt.grid()\n",
    "    plt.legend(loc=2)\n",
    "    plt.show()"
   ]
  },
  {
   "cell_type": "markdown",
   "id": "wrapped-salmon",
   "metadata": {},
   "source": [
    "### Using the MLP for XOR"
   ]
  },
  {
   "cell_type": "code",
   "execution_count": 4,
   "id": "detailed-queens",
   "metadata": {},
   "outputs": [
    {
     "data": {
      "text/plain": [
       "((4, 2), (4, 1))"
      ]
     },
     "execution_count": 4,
     "metadata": {},
     "output_type": "execute_result"
    }
   ],
   "source": [
    "X = np.array([[0,0],\n",
    "              [0,1],\n",
    "              [1,0],\n",
    "              [1,1]])\n",
    "Y = np.array([ [0],\n",
    "               [1],\n",
    "               [1],\n",
    "               [0]])\n",
    "\n",
    "X.shape, Y.shape"
   ]
  },
  {
   "cell_type": "code",
   "execution_count": 20,
   "id": "creative-subcommittee",
   "metadata": {
    "scrolled": true
   },
   "outputs": [
    {
     "name": "stdout",
     "output_type": "stream",
     "text": [
      "Beginning training ...\n",
      "Layer 0 weights shape: (2, 2)\n",
      "Layer 1 weights shape: (2, 1)\n",
      "Learning Rate: 1, epochs: 3000\n",
      "---------------------------------------\n",
      "\n",
      "Cost after epoch #0: 0.5207547896884711\n",
      "Cost after epoch #100: 0.5000902294559726\n",
      "Cost after epoch #200: 0.5000160330127704\n",
      "Cost after epoch #300: 0.49997499073883445\n",
      "Cost after epoch #400: 0.4999337605921767\n",
      "Cost after epoch #500: 0.4998734408496406\n",
      "Cost after epoch #600: 0.4997596937143326\n",
      "Cost after epoch #700: 0.4994817297311276\n",
      "Cost after epoch #800: 0.4984929589035167\n",
      "Cost after epoch #900: 0.4920045065730211\n",
      "Cost after epoch #1000: 0.43943707853413816\n",
      "Cost after epoch #1100: 0.3571645564686308\n",
      "Cost after epoch #1200: 0.10035225742554074\n",
      "Cost after epoch #1300: 0.029824238945099835\n",
      "Cost after epoch #1400: 0.015941329719252387\n",
      "Cost after epoch #1500: 0.010593879392118985\n",
      "Cost after epoch #1600: 0.007841172560145316\n",
      "Cost after epoch #1700: 0.0061850669997840875\n",
      "Cost after epoch #1800: 0.005087095261717731\n",
      "Cost after epoch #1900: 0.004309314622821163\n",
      "Cost after epoch #2000: 0.0037312469983481946\n",
      "Cost after epoch #2100: 0.00328568718439878\n",
      "Cost after epoch #2200: 0.0029323252625997466\n",
      "Cost after epoch #2300: 0.0026455788540705695\n",
      "Cost after epoch #2400: 0.0024084614612807816\n",
      "Cost after epoch #2500: 0.002209268699478501\n",
      "Cost after epoch #2600: 0.00203968273967843\n",
      "Cost after epoch #2700: 0.0018936357135497443\n",
      "Cost after epoch #2800: 0.0017666005929576336\n",
      "Cost after epoch #2900: 0.0016551334934024092\n",
      "\n",
      "Accuracy: 1.0\n"
     ]
    }
   ],
   "source": [
    "from mlp import *\n",
    "from activations import *\n",
    "\n",
    "model = MultiLayerPerceptron([DenseLayer(2, activation=Sigmoid(), input_shape=2), # 1 hidden layer w/ 2 neurons\n",
    "                             DenseLayer(1, activation=Sigmoid())],loss=MSE(), verbose=True) # 1 output layer w/ 1 neuron  \n",
    "\n",
    "cost_iter = model.train(X, Y,lr=1,epochs=3000)\n",
    "\n",
    "print('\\nAccuracy: {}'.format(accuracy_score(model.predict(X), Y)))"
   ]
  },
  {
   "cell_type": "code",
   "execution_count": 22,
   "id": "protecting-scene",
   "metadata": {},
   "outputs": [
    {
     "data": {
      "image/png": "[encoded data removed]",
      "text/plain": [
       "<Figure size 432x288 with 1 Axes>"
      ]
     },
     "metadata": {
      "needs_background": "light"
     },
     "output_type": "display_data"
    }
   ],
   "source": [
    "plot_cost(cost_iter)"
   ]
  },
  {
   "cell_type": "code",
   "execution_count": 9,
   "id": "absent-duplicate",
   "metadata": {},
   "outputs": [
    {
     "name": "stdout",
     "output_type": "stream",
     "text": [
      "Beginning training ...\n",
      "Layer 0 weights shape: (2, 2)\n",
      "Layer 1 weights shape: (2, 1)\n",
      "Learning Rate: 0.2, epochs: 1000\n",
      "---------------------------------------\n",
      "\n",
      "Cost after epoch #0: 0.5027070286564663\n",
      "Cost after epoch #100: 0.4705351070670369\n",
      "Cost after epoch #200: 0.4104992490593348\n",
      "Cost after epoch #300: 0.330625117879368\n",
      "Cost after epoch #400: 0.3258895272351561\n",
      "Cost after epoch #500: 0.3303942325231559\n",
      "Cost after epoch #600: 0.3335914383285099\n",
      "Cost after epoch #700: 0.33324903284217405\n",
      "Cost after epoch #800: 0.33368356344846994\n",
      "Cost after epoch #900: 0.3338271072379877\n",
      "\n",
      "Accuracy: 0.75\n"
     ]
    }
   ],
   "source": [
    "from mlp import *\n",
    "from activations import *\n",
    "\n",
    "#TODO: why does the cost stop dropping??????\n",
    "model = MultiLayerPerceptron([DenseLayer(2, activation=TanH(), input_shape=2), # 1 hidden layer w/ 2 neurons\n",
    "                             DenseLayer(1, activation=Sigmoid())],loss=MSE(), verbose=True) # 1 output layer w/ 1 neuron  \n",
    "\n",
    "cost_iter = model.train(X, Y,lr=0.2,epochs=1000)\n",
    "\n",
    "print('\\nAccuracy: {}'.format(accuracy_score(model.predict(X), Y))) #TODO: WHY IS THIS NOT LEARNING CONSISTENTLY?"
   ]
  },
  {
   "cell_type": "code",
   "execution_count": 10,
   "id": "nearby-profile",
   "metadata": {},
   "outputs": [
    {
     "data": {
      "image/png": "[encoded data removed]",
      "text/plain": [
       "<Figure size 432x288 with 1 Axes>"
      ]
     },
     "metadata": {
      "needs_background": "light"
     },
     "output_type": "display_data"
    }
   ],
   "source": [
    "plot_cost(cost_iter)"
   ]
  },
  {
   "cell_type": "markdown",
   "id": "graduate-commerce",
   "metadata": {},
   "source": [
    "### Try on the Iris Dataset"
   ]
  },
  {
   "cell_type": "code",
   "execution_count": 23,
   "id": "presidential-strand",
   "metadata": {
    "scrolled": true
   },
   "outputs": [
    {
     "name": "stdout",
     "output_type": "stream",
     "text": [
      "150\n"
     ]
    },
    {
     "data": {
      "text/plain": [
       "((150, 4), (150, 3))"
      ]
     },
     "execution_count": 23,
     "metadata": {},
     "output_type": "execute_result"
    }
   ],
   "source": [
    "from sklearn import datasets\n",
    "from sklearn.preprocessing import OneHotEncoder\n",
    "\n",
    "encoder = OneHotEncoder()\n",
    "\n",
    "data = datasets.load_iris()\n",
    "print(len(data.data))\n",
    "X = data.data[:300]\n",
    "y = data.target[:300]\n",
    "encoder.fit(y.reshape(-1,1))\n",
    "y_new = encoder.transform(y.reshape(-1,1)).toarray()\n",
    "\n",
    "X.shape, y_new.shape"
   ]
  },
  {
   "cell_type": "markdown",
   "id": "contemporary-standard",
   "metadata": {},
   "source": [
    "Check accuracy with our trained model on the iris dataset: "
   ]
  },
  {
   "cell_type": "code",
   "execution_count": 39,
   "id": "social-desperate",
   "metadata": {},
   "outputs": [
    {
     "data": {
      "text/plain": [
       "((120, 4), (120, 3))"
      ]
     },
     "execution_count": 39,
     "metadata": {},
     "output_type": "execute_result"
    }
   ],
   "source": [
    "from sklearn.model_selection import train_test_split\n",
    "from sklearn.preprocessing import OneHotEncoder\n",
    "\n",
    "encoder = OneHotEncoder()\n",
    "\n",
    "data = datasets.load_iris()\n",
    "X = data.data\n",
    "y = data.target\n",
    "encoder.fit(y.reshape(-1,1))\n",
    "\n",
    "X_train,X_test,y_train,y_test=train_test_split(X, y, test_size=0.20, random_state=0)\n",
    "\n",
    "# transform y_train into correct shape for categorical data labels\n",
    "y_train = encoder.transform(y_train.reshape(-1,1)).toarray()\n",
    "\n",
    "X_train.shape, y_train.shape"
   ]
  },
  {
   "cell_type": "code",
   "execution_count": 40,
   "id": "objective-cherry",
   "metadata": {
    "scrolled": true
   },
   "outputs": [
    {
     "name": "stdout",
     "output_type": "stream",
     "text": [
      "Beginning training ...\n",
      "Layer 0 weights shape: (4, 10)\n",
      "Layer 1 weights shape: (10, 10)\n",
      "Layer 2 weights shape: (10, 3)\n",
      "Learning Rate: 0.001, epochs: 5000\n",
      "---------------------------------------\n",
      "\n",
      "Cost after epoch #0: 0.6584626614858532\n",
      "Cost after epoch #100: 0.20859069674319505\n",
      "Cost after epoch #200: 0.19715628371147753\n",
      "Cost after epoch #300: 0.6719489288996289\n",
      "Cost after epoch #400: 1.1743310136477105\n",
      "Cost after epoch #500: 0.06708192868574599\n",
      "Cost after epoch #600: 0.05379139101690868\n",
      "Cost after epoch #700: 0.051733654127225824\n",
      "Cost after epoch #800: 0.06034089775217206\n",
      "Cost after epoch #900: 0.05690483716718734\n",
      "Cost after epoch #1000: 0.054208401838012135\n",
      "Cost after epoch #1100: 0.046300177001612715\n",
      "Cost after epoch #1200: 0.04713831057762346\n",
      "Cost after epoch #1300: 0.053551617589801044\n",
      "Cost after epoch #1400: 0.04612252683445887\n",
      "Cost after epoch #1500: 0.04891525997502595\n",
      "Cost after epoch #1600: 0.04815200547981905\n",
      "Cost after epoch #1700: 0.04582914137299445\n",
      "Cost after epoch #1800: 0.049781142940622254\n",
      "Cost after epoch #1900: 0.04756004148766779\n",
      "Cost after epoch #2000: 0.04683907007812888\n",
      "Cost after epoch #2100: 0.046219145071646234\n",
      "Cost after epoch #2200: 0.04560525864494037\n",
      "Cost after epoch #2300: 0.04510794556668121\n",
      "Cost after epoch #2400: 0.044634043017010704\n",
      "Cost after epoch #2500: 0.04007381631985558\n",
      "Cost after epoch #2600: 0.040217095144824154\n",
      "Cost after epoch #2700: 0.03885640840811472\n",
      "Cost after epoch #2800: 0.03885703939199237\n",
      "Cost after epoch #2900: 0.037416956571072094\n",
      "Cost after epoch #3000: 0.038715111316761856\n",
      "Cost after epoch #3100: 0.037568586604197735\n",
      "Cost after epoch #3200: 0.04187333735769025\n",
      "Cost after epoch #3300: 0.038204106479134844\n",
      "Cost after epoch #3400: 0.03820740581514856\n",
      "Cost after epoch #3500: 0.038152292131107296\n",
      "Cost after epoch #3600: 0.03793346338572556\n",
      "Cost after epoch #3700: 0.0406321103097405\n",
      "Cost after epoch #3800: 0.03720745069310741\n",
      "Cost after epoch #3900: 0.03678034713894234\n",
      "Cost after epoch #4000: 0.034868456581463515\n",
      "Cost after epoch #4100: 0.039879275399519964\n",
      "Cost after epoch #4200: 0.036794394570610095\n",
      "Cost after epoch #4300: 0.03483278137589142\n",
      "Cost after epoch #4400: 0.03699839170332698\n",
      "Cost after epoch #4500: 0.03736342948116452\n",
      "Cost after epoch #4600: 0.03652037122435479\n",
      "Cost after epoch #4700: 0.03614337009802794\n",
      "Cost after epoch #4800: 0.03661676263981688\n",
      "Cost after epoch #4900: 0.03306495080481872\n"
     ]
    }
   ],
   "source": [
    "from mlp import *\n",
    "from activations import *\n",
    "#TODO: why does the cost stop dropping????\n",
    "model = MultiLayerPerceptron([DenseLayer(10, activation=Relu(), input_shape=4), # hidden 1\n",
    "                             DenseLayer(10, activation=Relu()), # hidden 2\n",
    "                             DenseLayer(3, activation=SoftMax())],loss=CrossEntropy(), verbose=True) # 1 output layer w/ 3 neuron  \n",
    "\n",
    "cost_iter = model.train(X_train, y_train,lr=0.001,epochs=5000)"
   ]
  },
  {
   "cell_type": "code",
   "execution_count": 41,
   "id": "moving-explosion",
   "metadata": {
    "scrolled": true
   },
   "outputs": [
    {
     "data": {
      "image/png": "[encoded data removed]",
      "text/plain": [
       "<Figure size 432x288 with 1 Axes>"
      ]
     },
     "metadata": {
      "needs_background": "light"
     },
     "output_type": "display_data"
    }
   ],
   "source": [
    "plot_cost(cost_iter)"
   ]
  },
  {
   "cell_type": "code",
   "execution_count": 42,
   "id": "isolated-climb",
   "metadata": {},
   "outputs": [
    {
     "data": {
      "text/plain": [
       "1.0"
      ]
     },
     "execution_count": 42,
     "metadata": {},
     "output_type": "execute_result"
    }
   ],
   "source": [
    "model.accuracy(X_test,y_test)"
   ]
  },
  {
   "cell_type": "code",
   "execution_count": 46,
   "id": "large-charleston",
   "metadata": {
    "scrolled": true
   },
   "outputs": [
    {
     "name": "stdout",
     "output_type": "stream",
     "text": [
      "[2 1 0 2 0] [2 1 0 2 0]\n"
     ]
    }
   ],
   "source": [
    "preds = model.predict(X_test)\n",
    "print(preds[:5], y_test[:5])"
   ]
  },
  {
   "cell_type": "code",
   "execution_count": 55,
   "id": "interesting-recycling",
   "metadata": {
    "scrolled": true
   },
   "outputs": [
    {
     "name": "stdout",
     "output_type": "stream",
     "text": [
      "Beginning training ...\n",
      "Layer 0 weights shape: (4, 10)\n",
      "Layer 1 weights shape: (10, 10)\n",
      "Layer 2 weights shape: (10, 3)\n",
      "Learning Rate: 0.001, epochs: 5000\n",
      "---------------------------------------\n",
      "\n",
      "Cost after epoch #0: 0.6445801158126833\n",
      "Cost after epoch #100: 0.26523522049955905\n",
      "Cost after epoch #200: 0.26893174336777437\n",
      "Cost after epoch #300: 0.23492216998439533\n",
      "Cost after epoch #400: 0.18250034532363474\n",
      "Cost after epoch #500: 0.25425878503910765\n",
      "Cost after epoch #600: 0.06394926395562002\n",
      "Cost after epoch #700: 0.05162471746393504\n",
      "Cost after epoch #800: 0.05366492551476025\n",
      "Cost after epoch #900: 0.0670986575621235\n",
      "Cost after epoch #1000: 0.05210595147219081\n",
      "Cost after epoch #1100: 0.045889207556042956\n",
      "Cost after epoch #1200: 0.05662458944066211\n",
      "Cost after epoch #1300: 0.04879301670429839\n",
      "Cost after epoch #1400: 0.04226455136071132\n",
      "Cost after epoch #1500: 0.05757288823510258\n",
      "Cost after epoch #1600: 0.04101001561409862\n",
      "Cost after epoch #1700: 0.07603457290342817\n",
      "Cost after epoch #1800: 0.05297762308702134\n",
      "Cost after epoch #1900: 0.048215934047173864\n",
      "Cost after epoch #2000: 0.04056375819355413\n",
      "Cost after epoch #2100: 0.03761472873187078\n",
      "Cost after epoch #2200: 0.03861584089469643\n",
      "Cost after epoch #2300: 0.03810732170576635\n",
      "Cost after epoch #2400: 0.043048020647411187\n",
      "Cost after epoch #2500: 0.03559580204158788\n",
      "Cost after epoch #2600: 0.05245969231684039\n",
      "Cost after epoch #2700: 0.037561556706681216\n",
      "Cost after epoch #2800: 0.04153526002130272\n",
      "Cost after epoch #2900: 0.037986871821234794\n",
      "Cost after epoch #3000: 0.03999391918037659\n",
      "Cost after epoch #3100: 0.0361913635935726\n",
      "Cost after epoch #3200: 0.09304924125778306\n",
      "Cost after epoch #3300: 0.04061902299900382\n",
      "Cost after epoch #3400: 0.04119469762990613\n",
      "Cost after epoch #3500: 0.06653337703317369\n",
      "Cost after epoch #3600: 0.0629866115434375\n",
      "Cost after epoch #3700: 0.04881188136950961\n",
      "Cost after epoch #3800: 0.06825507552205418\n",
      "Cost after epoch #3900: 0.03639276513203257\n",
      "Cost after epoch #4000: 0.03417449910579511\n",
      "Cost after epoch #4100: 0.03475126824121981\n",
      "Cost after epoch #4200: 0.03453771112090043\n",
      "Cost after epoch #4300: 0.03579076510976221\n",
      "Cost after epoch #4400: 0.040511969220071456\n",
      "Cost after epoch #4500: 0.03306290097607614\n",
      "Cost after epoch #4600: 0.059153407856827\n",
      "Cost after epoch #4700: 0.03448541073559515\n",
      "Cost after epoch #4800: 0.03607712995433159\n",
      "Cost after epoch #4900: 0.03600150190453903\n"
     ]
    }
   ],
   "source": [
    "from mlp import *\n",
    "from activations import *\n",
    "#TODO: why does the cost stop dropping????\n",
    "model = MultiLayerPerceptron([DenseLayer(10, activation=Relu(), input_shape=4), # hidden 1\n",
    "                             DenseLayer(10, activation=Relu()), # hidden 2\n",
    "                             DenseLayer(3, activation=SoftMax())],loss=CrossEntropy(), verbose=True) # 1 output layer w/ 3 neuron  \n",
    "\n",
    "cost_iter = model.train(X_train, y_train,lr=0.001,epochs=5000)"
   ]
  },
  {
   "cell_type": "code",
   "execution_count": 56,
   "id": "accredited-junction",
   "metadata": {
    "scrolled": true
   },
   "outputs": [
    {
     "data": {
      "image/png": "[encoded data removed]",
      "text/plain": [
       "<Figure size 432x288 with 1 Axes>"
      ]
     },
     "metadata": {
      "needs_background": "light"
     },
     "output_type": "display_data"
    }
   ],
   "source": [
    "plot_cost(cost_iter, name='Iris Dataset')"
   ]
  },
  {
   "cell_type": "code",
   "execution_count": 57,
   "id": "dominant-google",
   "metadata": {
    "scrolled": true
   },
   "outputs": [
    {
     "data": {
      "text/plain": [
       "1.0"
      ]
     },
     "execution_count": 57,
     "metadata": {},
     "output_type": "execute_result"
    }
   ],
   "source": [
    "model.accuracy(X_test,y_test)"
   ]
  },
  {
   "cell_type": "markdown",
   "id": "verified-intellectual",
   "metadata": {},
   "source": [
    "### Digits Dataset"
   ]
  },
  {
   "cell_type": "code",
   "execution_count": 7,
   "id": "improving-consequence",
   "metadata": {},
   "outputs": [
    {
     "name": "stdout",
     "output_type": "stream",
     "text": [
      "(1797, 64) (1797,)\n"
     ]
    },
    {
     "data": {
      "text/plain": [
       "((1437, 64), (1437, 10))"
      ]
     },
     "execution_count": 7,
     "metadata": {},
     "output_type": "execute_result"
    }
   ],
   "source": [
    "data = datasets.load_digits()\n",
    "\n",
    "X = data.data\n",
    "y = data.target\n",
    "\n",
    "print(X.shape, y.shape)\n",
    "\n",
    "encoder = OneHotEncoder()\n",
    "\n",
    "encoder.fit(y.reshape(-1,1))\n",
    "\n",
    "X_train,X_test,y_train,y_test=train_test_split(X, y, test_size=0.20, random_state=0)\n",
    "\n",
    "# transform y_train into correct shape for categorical data labels\n",
    "y_train = encoder.transform(y_train.reshape(-1,1)).toarray()\n",
    "\n",
    "X_train.shape, y_train.shape"
   ]
  },
  {
   "cell_type": "code",
   "execution_count": 14,
   "id": "prerequisite-community",
   "metadata": {},
   "outputs": [
    {
     "name": "stdout",
     "output_type": "stream",
     "text": [
      "Beginning training ...\n",
      "Layer 0 weights shape: (64, 512)\n",
      "Layer 1 weights shape: (512, 512)\n",
      "Layer 2 weights shape: (512, 512)\n",
      "Layer 3 weights shape: (512, 512)\n",
      "Layer 4 weights shape: (512, 10)\n",
      "Learning Rate: 0.1, epochs: 2000\n",
      "---------------------------------------\n",
      "\n",
      "Cost after epoch #0: 0.32763303591233894\n",
      "Cost after epoch #100: 4.9339755439085105\n",
      "Cost after epoch #200: 4.9339755439085105\n",
      "Cost after epoch #300: 4.9339755439085105\n",
      "Cost after epoch #400: 4.9339755439085105\n",
      "Cost after epoch #500: 4.9339755439085105\n",
      "Cost after epoch #600: 4.9339755439085105\n",
      "Cost after epoch #700: 4.9339755439085105\n",
      "Cost after epoch #800: 4.9339755439085105\n",
      "Cost after epoch #900: 4.9339755439085105\n",
      "Cost after epoch #1000: 4.9339755439085105\n",
      "Cost after epoch #1100: 4.9339755439085105\n",
      "Cost after epoch #1200: 4.9339755439085105\n",
      "Cost after epoch #1300: 4.9339755439085105\n",
      "Cost after epoch #1400: 4.9339755439085105\n",
      "Cost after epoch #1500: 4.9339755439085105\n",
      "Cost after epoch #1600: 4.9339755439085105\n",
      "Cost after epoch #1700: 4.9339755439085105\n",
      "Cost after epoch #1800: 4.9339755439085105\n",
      "Cost after epoch #1900: 4.9339755439085105\n"
     ]
    }
   ],
   "source": [
    "# Build the model object\n",
    "from mlp import *\n",
    "model = MultiLayerPerceptron([DenseLayer(512, activation=LeakyRelu(), input_shape=X_train.shape[1]), # hidden 1\n",
    "                             DenseLayer(512, activation=LeakyRelu()), # hidden 2\n",
    "                             DenseLayer(512, activation=LeakyRelu()),\n",
    "                             DenseLayer(512, activation=LeakyRelu()),\n",
    "                             DenseLayer(10, activation=SoftMax())],loss=CrossEntropy(), verbose=True) # 1 output layer w/ 3 neuron  \n",
    "\n",
    "cost_iter = model.train(X_train, y_train,lr=0.1,epochs=2000)"
   ]
  },
  {
   "cell_type": "markdown",
   "id": "prepared-chile",
   "metadata": {},
   "source": [
    "### Implementing Gradient Descent with Linear Regression (sanity check)"
   ]
  },
  {
   "cell_type": "code",
   "execution_count": 48,
   "id": "empty-negotiation",
   "metadata": {},
   "outputs": [],
   "source": [
    "def f(x): return x * 2\n",
    "\n",
    "X = np.random.uniform(0, 1, 50)\n",
    "noise_variance = 0.2  # Variance of the gaussian noise\n",
    "noise = np.random.randn(X.shape[0]) * noise_variance\n",
    "y = f(X) + noise"
   ]
  },
  {
   "cell_type": "code",
   "execution_count": 49,
   "id": "deluxe-examination",
   "metadata": {},
   "outputs": [
    {
     "data": {
      "image/png": "[encoded data removed]",
      "text/plain": [
       "<Figure size 432x288 with 1 Axes>"
      ]
     },
     "metadata": {
      "needs_background": "light"
     },
     "output_type": "display_data"
    },
    {
     "data": {
      "text/plain": [
       "((50,), (50,))"
      ]
     },
     "execution_count": 49,
     "metadata": {},
     "output_type": "execute_result"
    }
   ],
   "source": [
    "plt.plot(X, y, 'o', label='y')\n",
    "plt.xlabel('$x$', fontsize=15)\n",
    "plt.ylabel('$y$', fontsize=15)\n",
    "plt.ylim([0,2])\n",
    "plt.title('inputs (x) vs targets (y)')\n",
    "plt.grid()\n",
    "plt.legend(loc=2)\n",
    "plt.show()\n",
    "X.shape,y.shape"
   ]
  },
  {
   "cell_type": "code",
   "execution_count": 50,
   "id": "designing-double",
   "metadata": {
    "scrolled": true
   },
   "outputs": [
    {
     "name": "stdout",
     "output_type": "stream",
     "text": [
      "Current cost: 1.5946077061245496\n",
      "Current cost: 0.23268340399843235\n",
      "Current cost: 0.1813150652533628\n",
      "Current cost: 0.14776332524917446\n",
      "Current cost: 0.12240010540113128\n",
      "Current cost: 0.10320522126624318\n",
      "Current cost: 0.08867841521220646\n",
      "Current cost: 0.07768443864083442\n",
      "Current cost: 0.06936412924501559\n",
      "Current cost: 0.06306726768696694\n",
      "Current cost: 0.05830176395447873\n",
      "Current cost: 0.05469520128591711\n",
      "Current cost: 0.051965732375088856\n",
      "Current cost: 0.049900053439264624\n",
      "Current cost: 0.04833673485777066\n",
      "Current cost: 0.047153605696283046\n",
      "Current cost: 0.04625820623686852\n",
      "Current cost: 0.045580562393729915\n",
      "Current cost: 0.04506771734639882\n",
      "Current cost: 0.044679593045949414\n",
      "Current cost: 0.04438585817733109\n",
      "Current cost: 0.04416355781391063\n",
      "Current cost: 0.04399531952538428\n",
      "Current cost: 0.043867995749161955\n",
      "Current cost: 0.04377163632864295\n",
      "Current cost: 0.04369871092383446\n",
      "Current cost: 0.04364352052690351\n",
      "Current cost: 0.04360175209351055\n",
      "Current cost: 0.04357014148505118\n",
      "Current cost: 0.043546218381262006\n",
      "Current cost: 0.04352811322850469\n",
      "Current cost: 0.04351441113703472\n",
      "Current cost: 0.04350404130955141\n",
      "Current cost: 0.04349619336004177\n",
      "Current cost: 0.043490253983364056\n",
      "Current cost: 0.04348575902639774\n",
      "Current cost: 0.04348235721519339\n",
      "Current cost: 0.043479782703455754\n",
      "Current cost: 0.043477834297066\n",
      "Current cost: 0.04347635973107195\n",
      "Current cost: 0.043475243770417\n",
      "Current cost: 0.04347439920449833\n",
      "Current cost: 0.04347376003179291\n",
      "Current cost: 0.043473276301940304\n",
      "Current cost: 0.043472910212199095\n",
      "Current cost: 0.04347263315322107\n",
      "Current cost: 0.043472423473274666\n",
      "Current cost: 0.043472264786195716\n",
      "Current cost: 0.043472144690833915\n",
      "Current cost: 0.04347205380192211\n",
      "2.1137086549635287 -0.01928078951779962\n"
     ]
    }
   ],
   "source": [
    "m = 0\n",
    "b = 0\n",
    "lr = 0.01\n",
    "epochs = 5000\n",
    "n = len(X)\n",
    " \n",
    "def mse_cost(y,y_hat):\n",
    "    assert(len(y)==len(y_hat))\n",
    "    return np.sum((y-y_hat)**2)/float(len(y))\n",
    "\n",
    "cost_iter = []\n",
    "# Perform Gradient Descent\n",
    "for i in range(epochs):\n",
    "    y_hat = m*X + b  # The current predicted value of Y\n",
    "    \n",
    "    cost = mse_cost(y,y_hat)\n",
    "    cost_iter.append(cost)\n",
    "    if i % 100 == 0:\n",
    "        print('Current cost: {}'.format(cost))\n",
    "    \n",
    "    Dm = (-2/n) * np.sum(X * (y - y_hat))  # Derivative wrt m\n",
    "    Dc = (-2/n) * np.sum(y - y_hat)  # Derivative wrt c\n",
    "    m = m - lr * Dm  # Update m\n",
    "    b = b - lr * Dc  # Update c\n",
    "       \n",
    "print (m, b)"
   ]
  },
  {
   "cell_type": "code",
   "execution_count": 53,
   "id": "czech-standard",
   "metadata": {},
   "outputs": [
    {
     "data": {
      "image/png": "[encoded data removed]",
      "text/plain": [
       "<Figure size 432x288 with 1 Axes>"
      ]
     },
     "metadata": {
      "needs_background": "light"
     },
     "output_type": "display_data"
    }
   ],
   "source": [
    "plot_cost(cost_iter)"
   ]
  },
  {
   "cell_type": "markdown",
   "id": "differential-gathering",
   "metadata": {},
   "source": [
    "### Plot Fitted Linear Regression Line"
   ]
  },
  {
   "cell_type": "code",
   "execution_count": 54,
   "id": "balanced-emphasis",
   "metadata": {},
   "outputs": [
    {
     "data": {
      "image/png": "[encoded data removed]",
      "text/plain": [
       "<Figure size 432x288 with 1 Axes>"
      ]
     },
     "metadata": {
      "needs_background": "light"
     },
     "output_type": "display_data"
    },
    {
     "data": {
      "text/plain": [
       "((50,), (50,))"
      ]
     },
     "execution_count": 54,
     "metadata": {},
     "output_type": "execute_result"
    }
   ],
   "source": [
    "plt.plot(X, y, 'o', label='y')\n",
    "plt.xlabel('$x$', fontsize=15)\n",
    "plt.ylabel('$y$', fontsize=15)\n",
    "\n",
    "# plot new regression line w/ new weights:\n",
    "y_pred = X*m+b\n",
    "plt.plot(X,y_pred, label='y=mx+b', c='b')\n",
    "\n",
    "plt.ylim([0,2])\n",
    "plt.title('inputs (x) vs targets (y)')\n",
    "plt.grid()\n",
    "plt.legend(loc=2)\n",
    "plt.show()\n",
    "X.shape,y.shape"
   ]
  }
 ],
 "metadata": {
  "kernelspec": {
   "display_name": "Python 3",
   "language": "python",
   "name": "python3"
  },
  "language_info": {
   "codemirror_mode": {
    "name": "ipython",
    "version": 3
   },
   "file_extension": ".py",
   "mimetype": "text/x-python",
   "name": "python",
   "nbconvert_exporter": "python",
   "pygments_lexer": "ipython3",
   "version": "3.8.8"
  }
 },
 "nbformat": 4,
 "nbformat_minor": 5
}
